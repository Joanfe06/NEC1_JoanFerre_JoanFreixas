{
 "cells": [
  {
   "cell_type": "markdown",
   "metadata": {},
   "source": [
    "## Datasets 1 and 2"
   ]
  },
  {
   "cell_type": "markdown",
   "metadata": {},
   "source": [
    "### Imports"
   ]
  },
  {
   "cell_type": "code",
   "execution_count": 15,
   "metadata": {},
   "outputs": [],
   "source": [
    "import pandas as pd\n",
    "import numpy as np\n",
    "import matplotlib.pyplot as plt\n",
    "from sklearn.preprocessing import MinMaxScaler\n",
    "from sklearn.model_selection import train_test_split"
   ]
  },
  {
   "cell_type": "markdown",
   "metadata": {},
   "source": [
    "### Dataset 1"
   ]
  },
  {
   "cell_type": "code",
   "execution_count": 16,
   "metadata": {},
   "outputs": [],
   "source": [
    "# import txt file\n",
    "df1 = pd.read_csv('A1-turbine.txt', sep=\"\\t\", decimal=\".\")\n",
    "x1, y1 = df1.drop([\"flow\"], axis=1), df1[[\"flow\"]]\n",
    "scaler = MinMaxScaler()\n",
    "x1 = scaler.fit_transform(x1)\n",
    "y1 = scaler.fit_transform(y1)\n",
    "y1 = y1 * 0.8 + 0.1\n",
    "x1_train, x1_test, y1_train, y1_test = train_test_split(x1, y1, test_size=0.15, random_state=42)"
   ]
  },
  {
   "cell_type": "markdown",
   "metadata": {},
   "source": [
    "### Dataset 2"
   ]
  },
  {
   "cell_type": "code",
   "execution_count": 17,
   "metadata": {},
   "outputs": [],
   "source": [
    "df2 = pd.read_csv('A1-synthetic.txt', sep=\"\\t\", decimal=\".\")\n",
    "df2.rename(columns={'#v1': 'v1'}, inplace=True)\n",
    "x2, y2 = df2.drop([\"z\"], axis=1), df2[[\"z\"]]\n",
    "x2 = scaler.fit_transform(x2)\n",
    "y2 = scaler.fit_transform(y2)\n",
    "y2 = y2 * 0.8 + 0.1\n",
    "x2_train, x2_test, y2_train, y2_test = train_test_split(x2, y2, test_size=0.2, random_state=42)"
   ]
  }
 ],
 "metadata": {
  "kernelspec": {
   "display_name": "Python 3",
   "language": "python",
   "name": "python3"
  },
  "language_info": {
   "codemirror_mode": {
    "name": "ipython",
    "version": 3
   },
   "file_extension": ".py",
   "mimetype": "text/x-python",
   "name": "python",
   "nbconvert_exporter": "python",
   "pygments_lexer": "ipython3",
   "version": "3.10.2"
  }
 },
 "nbformat": 4,
 "nbformat_minor": 2
}
